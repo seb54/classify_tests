{
 "cells": [
  {
   "cell_type": "markdown",
   "metadata": {},
   "source": [
    "# Classification de textes avec FastText\n",
    "\n",
    "Dans ce notebook, nous allons explorer la classification automatique de textes en utilisant FastText, une bibliothèque développée par Facebook Research. FastText permet d'entraîner des modèles de classification de texte de manière efficace et rapide, en s'appuyant sur des représentations de mots sous forme de vecteurs (word embeddings).\n",
    "\n",
    "Nous verrons comment :\n",
    "- Préparer les données textuelles pour FastText\n",
    "- Entraîner un modèle de classification \n",
    "- Évaluer ses performances\n",
    "- Utiliser le modèle pour faire des prédictions\n"
   ]
  },
  {
   "cell_type": "code",
   "execution_count": 36,
   "metadata": {},
   "outputs": [
    {
     "name": "stdout",
     "output_type": "stream",
     "text": [
      "Nombre total d'exemples: 482\n",
      "\n",
      "Distribution des labels:\n",
      "sentiment\n",
      "__label__positive    241\n",
      "__label__negative    241\n",
      "Name: count, dtype: int64\n",
      "\n",
      "Évaluation du modèle:\n",
      "(97, 0.9175257731958762, 0.9175257731958762)\n",
      "\n",
      "Prédiction pour 'Ce produit est tout bonnement remarquable !':\n",
      "Label: positive\n",
      "Confiance: 0.99\n"
     ]
    }
   ],
   "source": [
    "# Importation des bibliothèques nécessaires\n",
    "import fasttext\n",
    "import pandas as pd\n",
    "import numpy as np\n",
    "from sklearn.model_selection import train_test_split\n",
    "\n",
    "# Chargement d'un dataset plus complet depuis un fichier texte\n",
    "def load_dataset(filename):\n",
    "    textes = []\n",
    "    labels = []\n",
    "    with open(filename, 'r', encoding='utf-8') as f:\n",
    "        for line in f:\n",
    "            # Le format attendu est: label\\ttext\n",
    "            label, text = line.strip().split('\\t')\n",
    "            textes.append(text)\n",
    "            labels.append(label)\n",
    "    return pd.DataFrame({\n",
    "        'texte': textes,\n",
    "        'sentiment': labels\n",
    "    })\n",
    "\n",
    "# Chargement des données\n",
    "df = load_dataset('data/critiques.txt')\n",
    "\n",
    "print(f\"Nombre total d'exemples: {len(df)}\")\n",
    "print(\"\\nDistribution des labels:\")\n",
    "print(df['sentiment'].value_counts())\n",
    "\n",
    "# Préparation des données au format FastText\n",
    "def prepare_fasttext_format(text, label):\n",
    "    return f\"__label__{label} {text}\"\n",
    "\n",
    "# Création des fichiers d'entraînement et de test\n",
    "train_data, test_data = train_test_split(df, test_size=0.2, random_state=42)\n",
    "\n",
    "# Sauvegarde des données dans des fichiers\n",
    "with open('data/train.txt', 'w', encoding='utf-8') as f:\n",
    "    for text, label in zip(train_data['texte'], train_data['sentiment']):\n",
    "        f.write(prepare_fasttext_format(text, label) + '\\n')\n",
    "        \n",
    "with open('data/test.txt', 'w', encoding='utf-8') as f:\n",
    "    for text, label in zip(test_data['texte'], test_data['sentiment']):\n",
    "        f.write(prepare_fasttext_format(text, label) + '\\n')\n",
    "\n",
    "# Entraînement du modèle FastText\n",
    "model = fasttext.train_supervised(input='data/train.txt', lr=1.0, epoch=25)\n",
    "\n",
    "# Évaluation du modèle\n",
    "print(\"\\nÉvaluation du modèle:\")\n",
    "print(model.test('data/test.txt'))\n",
    "\n",
    "# Exemple de prédiction\n",
    "exemple_texte = \"Ce produit est tout bonnement remarquable !\"\n",
    "prediction = model.predict(exemple_texte)\n",
    "print(f\"\\nPrédiction pour '{exemple_texte}':\")\n",
    "print(f\"Label: {prediction[0][0].replace('__label__', '')}\")\n",
    "print(f\"Confiance: {prediction[1][0]:.2f}\")"
   ]
  }
 ],
 "metadata": {
  "kernelspec": {
   "display_name": "Python 3",
   "language": "python",
   "name": "python3"
  },
  "language_info": {
   "codemirror_mode": {
    "name": "ipython",
    "version": 3
   },
   "file_extension": ".py",
   "mimetype": "text/x-python",
   "name": "python",
   "nbconvert_exporter": "python",
   "pygments_lexer": "ipython3",
   "version": "3.12.7"
  }
 },
 "nbformat": 4,
 "nbformat_minor": 2
}
